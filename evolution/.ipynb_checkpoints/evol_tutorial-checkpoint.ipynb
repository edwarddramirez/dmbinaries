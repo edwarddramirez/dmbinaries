{
 "cells": [
  {
   "cell_type": "code",
   "execution_count": 2,
   "id": "89a4406c",
   "metadata": {
    "ExecuteTime": {
     "end_time": "2022-08-04T21:34:21.557457Z",
     "start_time": "2022-08-04T21:34:21.550415Z"
    }
   },
   "outputs": [
    {
     "data": {
      "text/plain": [
       "'\\nHere, we describe the code we use to simulate a population of binaries under the influence of a population of subhalos.\\nWe describe the code in order of blocks in the evol.py code.\\n'"
      ]
     },
     "execution_count": 2,
     "metadata": {},
     "output_type": "execute_result"
    }
   ],
   "source": [
    "'''\n",
    "Here, we describe the code we use to simulate a population of binaries under the influence of a population of subhalos.\n",
    "We describe the code in order of blocks in the evol.py code.\n",
    "'''"
   ]
  },
  {
   "cell_type": "code",
   "execution_count": 3,
   "id": "911fb964",
   "metadata": {
    "ExecuteTime": {
     "end_time": "2022-08-04T21:34:24.412063Z",
     "start_time": "2022-08-04T21:34:24.405601Z"
    }
   },
   "outputs": [],
   "source": [
    "# Initialization\n",
    "\n",
    "## packages and functions\n",
    "import timeit as timeit\n",
    "import sys\n",
    "import os\n",
    "import numpy as np\n",
    "import math as math \n",
    "from scipy.stats import maxwell\n",
    "from scipy.integrate import quad, dblquad\n",
    "from scipy.special import erf\n",
    "\n",
    "ti = timeit.default_timer() ## start a timer\n",
    "\n",
    "## input parameters (in the actual code, you set these values using the terminal)\n",
    "a0 = float(0.1)    # initial binary semimajor axis (pc)    # perturber mass (M_solar)\n",
    "str_a0 = str.format('{0:.9f}',a0)\n",
    "log_m = float(3) # perturber mass (M_solar)\n",
    "str_log_m = str.format('{0:.3f}',log_m)\n",
    "m = 10**log_m\n",
    "log_rs = float(-1) # NFW scale radius (pc)\n",
    "str_log_rs = str.format('{0:.3f}',log_rs)\n",
    "rs = 10**log_rs\n",
    "log_c = float(0) # NFW concentration\n",
    "str_log_c = str.format('{0:.3f}',log_c)\n",
    "c = 10**log_c\n",
    "log_f = float(0.2) # halo fraction [setting max number of time steps]\n",
    "f = 10**log_f\n",
    "str_log_f = str.format('{0:.3f}',log_f)\n",
    "\n",
    "## conversion factors:\n",
    "kg_g = 1E-3\n",
    "Msolar_kg = 5.02785E-31 # Msolar/kg\n",
    "pc_m = 3.24078E-17 # pc/m\n",
    "Gyr_yr = pow(10,-9) # Gyr/yr\n",
    "yr_s = 3.17098E-8 # yr/s\n",
    "km_m = 1/1000 # km/m\n",
    "kg_GeV = 1.78266E-27 # kg / (GeV / c**2)\n",
    "m_cm = pow(10,-2) # m/cm\n",
    "pc_AU = 4.84814e-6 # pc/AU\n",
    "AU_pc = 206265  # AU/pc\n",
    "\n",
    "## fixed parameters \n",
    "v0 = 240 # circular velocity (km/s) \n",
    "vesc = 533 # local escape velocity (km/s)\n",
    "T = 10 # evolution time (Gyr)\n",
    "rho_pdg = 0.39 # Local DM Density (GeV / cm3)\n",
    "rho = 0.39 * (Msolar_kg) * (kg_GeV) * (pc_m)**(-3) * (m_cm)**(-3) #[Ed]\n",
    "\n",
    "## constants\n",
    "G = 4.30091e-3   # Grav Constant (pc (M_solar)^-1 (km/s)**2)"
   ]
  },
  {
   "cell_type": "code",
   "execution_count": null,
   "id": "0c18f5aa",
   "metadata": {},
   "outputs": [],
   "source": [
    "## set up maximum impact parameter and time steps\n",
    "\n",
    "### Compute the average inverse velocity for the truncated velocity profile\n",
    "\n",
    "def v_theta_(cos_theta,v,vesc):\n",
    "    return -v*cos_theta + np.sqrt(v*v*cos_theta*cos_theta + (vesc*vesc - v*v))\n",
    "\n",
    "def fv_no_vesc_(v, sigma):\n",
    "    return v*v*np.exp(-v*v / 4 / sigma / sigma)\n",
    "\n",
    "def dfv_dcos_theta_eff_(v_theta,sigma):\n",
    "    return (1/4) * (-2 * v_theta * np.exp( - v_theta * v_theta / sigma / sigma ) \n",
    "                 + np.sqrt(np.pi) * sigma * erf(v_theta / sigma) ) \n",
    "\n",
    "def inv_v_avg_(sigma,vesc,normalization):\n",
    "    v_avg_eff = ( dblquad(lambda cos_theta, v: \n",
    "                                     fv_no_vesc_(v, sigma) * dfv_dcos_theta_eff_(v_theta_(cos_theta,v/2,vesc),sigma) / v, 0, 2*vesc, \n",
    "                                     lambda v: 0, lambda v: 1)[0] )\n",
    "    return v_avg_eff / normalization\n",
    "\n",
    "sigma = v0/math.sqrt(2)/math.sqrt(2)\n",
    "normalization = ( dblquad(lambda cos_theta, v: \n",
    "                                     fv_no_vesc_(v, sigma) * dfv_dcos_theta_eff_(v_theta_(cos_theta,v/2,vesc),sigma), 0, 2*vesc, \n",
    "                                     lambda v: 0, lambda v: 1)[0] )\n",
    "inv_v_avg = inv_v_avg_(sigma,vesc,normalization)\n",
    "\n",
    "### max impact parameter when the fractional energy injection falls below energy_fraction\n",
    "def p_max_(a,m,M,inv_v_avg,f,energy_fraction): \n",
    "    bar_C = 2*G*m * 2*G*m / 2 * inv_v_avg\n",
    "    E = G * M / 2 / a\n",
    "    inv_factor = np.pi * (f * rho * T / m) * bar_C / E\n",
    "    bar_delta_Eps_val = inv_factor**(-1) * energy_fraction\n",
    "    #if m >= 10:\n",
    "    #    return a * np.sqrt(1 + 2 * bar_delta_Eps_val**(-1) * (1 + np.sqrt(1 + bar_delta_Eps_val))) # pc\n",
    "    #else:\n",
    "    #    return (m/10)**(1/2) * a * np.sqrt(1 + 2 * bar_delta_Eps_val**(-1) * (1 + np.sqrt(1 + bar_delta_Eps_val))) # pc\n",
    "    return a * np.sqrt(1 + 2 * bar_delta_Eps_val**(-1) * (1 + np.sqrt(1 + bar_delta_Eps_val))) # pc\n",
    "\n",
    "\n",
    "### load number of time steps needed to evolve for the specified evolution time\n",
    "def delta_t_(m,inv_v_avg,f,R):    # length of time step in Gyr\n",
    "    delta_t_val = m / (f * rho * np.pi * R**2) * inv_v_avg\n",
    "    delta_t_val_Gyr = delta_t_val * ( (km_m) / (pc_m) ) * ( (Gyr_yr) * (yr_s) ) \n",
    "    return delta_t_val_Gyr  # Gyr\n",
    "\n",
    "log_eps = float(-2)   # threshold fractional energy injection defining p_max\n",
    "energy_fraction = 10**log_eps\n",
    "str_log_eps = str.format('{0:.2f}',log_eps)\n",
    "p_max = p_max_(1,m,1,inv_v_avg,1,energy_fraction) # p_max value (f=1 for efficiency, M =1 standard stable)\n",
    "delta_t = delta_t_(m,inv_v_avg,f,p_max)    # delta_t value\n",
    "N = int(T / delta_t)    # number of time steps"
   ]
  }
 ],
 "metadata": {
  "kernelspec": {
   "display_name": "Python 3 (ipykernel)",
   "language": "python",
   "name": "python3"
  },
  "language_info": {
   "codemirror_mode": {
    "name": "ipython",
    "version": 3
   },
   "file_extension": ".py",
   "mimetype": "text/x-python",
   "name": "python",
   "nbconvert_exporter": "python",
   "pygments_lexer": "ipython3",
   "version": "3.9.7"
  },
  "toc": {
   "base_numbering": 1,
   "nav_menu": {},
   "number_sections": true,
   "sideBar": true,
   "skip_h1_title": false,
   "title_cell": "Table of Contents",
   "title_sidebar": "Contents",
   "toc_cell": false,
   "toc_position": {},
   "toc_section_display": true,
   "toc_window_display": false
  },
  "varInspector": {
   "cols": {
    "lenName": 16,
    "lenType": 16,
    "lenVar": 40
   },
   "kernels_config": {
    "python": {
     "delete_cmd_postfix": "",
     "delete_cmd_prefix": "del ",
     "library": "var_list.py",
     "varRefreshCmd": "print(var_dic_list())"
    },
    "r": {
     "delete_cmd_postfix": ") ",
     "delete_cmd_prefix": "rm(",
     "library": "var_list.r",
     "varRefreshCmd": "cat(var_dic_list()) "
    }
   },
   "types_to_exclude": [
    "module",
    "function",
    "builtin_function_or_method",
    "instance",
    "_Feature"
   ],
   "window_display": false
  }
 },
 "nbformat": 4,
 "nbformat_minor": 5
}

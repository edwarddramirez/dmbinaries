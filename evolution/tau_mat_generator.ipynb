{
 "cells": [
  {
   "cell_type": "code",
   "execution_count": 1,
   "id": "07b59558",
   "metadata": {
    "ExecuteTime": {
     "end_time": "2022-08-05T18:43:17.451026Z",
     "start_time": "2022-08-05T18:43:14.478905Z"
    }
   },
   "outputs": [],
   "source": [
    "import numpy as np\n",
    "\n",
    "Nres = 10000\n",
    "\n",
    "psi_discrete = np.linspace(0,2*np.pi,Nres)\n",
    "psi_mat = np.outer(psi_discrete,np.ones(Nres))\n",
    "e_discrete = np.linspace(0,1,Nres)\n",
    "e_mat = np.outer(np.ones(Nres),e_discrete)\n",
    "\n",
    "def t_eff(psi,e):\n",
    "    return psi - e * np.sin(psi)\n",
    "\n",
    "tau_mat = t_eff(psi_mat,e_mat) / 2 / np.pi# t(psi,e) matrix\n",
    "\n",
    "np.save('tau_mat_'+str(np.log10(Nres)), tau_mat)\n",
    "\n",
    "### note: this matrix is really just the matrix of mean anomalies divided by 2pi"
   ]
  },
  {
   "cell_type": "code",
   "execution_count": null,
   "id": "c8c14c1c",
   "metadata": {},
   "outputs": [],
   "source": [
    "tau_pkg"
   ]
  },
  {
   "cell_type": "code",
   "execution_count": null,
   "id": "2130d491",
   "metadata": {},
   "outputs": [],
   "source": []
  },
  {
   "cell_type": "code",
   "execution_count": null,
   "id": "44bbc93c",
   "metadata": {},
   "outputs": [],
   "source": []
  }
 ],
 "metadata": {
  "kernelspec": {
   "display_name": "Python 3 (ipykernel)",
   "language": "python",
   "name": "python3"
  },
  "language_info": {
   "codemirror_mode": {
    "name": "ipython",
    "version": 3
   },
   "file_extension": ".py",
   "mimetype": "text/x-python",
   "name": "python",
   "nbconvert_exporter": "python",
   "pygments_lexer": "ipython3",
   "version": "3.9.7"
  },
  "toc": {
   "base_numbering": 1,
   "nav_menu": {},
   "number_sections": true,
   "sideBar": true,
   "skip_h1_title": false,
   "title_cell": "Table of Contents",
   "title_sidebar": "Contents",
   "toc_cell": false,
   "toc_position": {},
   "toc_section_display": true,
   "toc_window_display": false
  },
  "varInspector": {
   "cols": {
    "lenName": 16,
    "lenType": 16,
    "lenVar": 40
   },
   "kernels_config": {
    "python": {
     "delete_cmd_postfix": "",
     "delete_cmd_prefix": "del ",
     "library": "var_list.py",
     "varRefreshCmd": "print(var_dic_list())"
    },
    "r": {
     "delete_cmd_postfix": ") ",
     "delete_cmd_prefix": "rm(",
     "library": "var_list.r",
     "varRefreshCmd": "cat(var_dic_list()) "
    }
   },
   "types_to_exclude": [
    "module",
    "function",
    "builtin_function_or_method",
    "instance",
    "_Feature"
   ],
   "window_display": false
  }
 },
 "nbformat": 4,
 "nbformat_minor": 5
}
